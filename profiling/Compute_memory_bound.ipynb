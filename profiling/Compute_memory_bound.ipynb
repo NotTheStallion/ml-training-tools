{
 "cells": [
  {
   "cell_type": "code",
   "execution_count": 5,
   "id": "QidU5qFubJq6",
   "metadata": {
    "id": "QidU5qFubJq6"
   },
   "outputs": [
    {
     "name": "stdout",
     "output_type": "stream",
     "text": [
      "Requirement already satisfied: numpy in /home/mkherraz001/miniconda3/envs/torch/lib/python3.12/site-packages (2.0.2)\n",
      "Requirement already satisfied: matplotlib in /home/mkherraz001/miniconda3/envs/torch/lib/python3.12/site-packages (3.9.2)\n",
      "Requirement already satisfied: torch in /home/mkherraz001/miniconda3/envs/torch/lib/python3.12/site-packages (2.5.1)\n",
      "Requirement already satisfied: torchvision in /home/mkherraz001/miniconda3/envs/torch/lib/python3.12/site-packages (0.20.1)\n",
      "Requirement already satisfied: flopco-pytorch in /home/mkherraz001/miniconda3/envs/torch/lib/python3.12/site-packages (0.1.4)\n",
      "Requirement already satisfied: contourpy>=1.0.1 in /home/mkherraz001/miniconda3/envs/torch/lib/python3.12/site-packages (from matplotlib) (1.3.0)\n",
      "Requirement already satisfied: cycler>=0.10 in /home/mkherraz001/miniconda3/envs/torch/lib/python3.12/site-packages (from matplotlib) (0.12.1)\n",
      "Requirement already satisfied: fonttools>=4.22.0 in /home/mkherraz001/miniconda3/envs/torch/lib/python3.12/site-packages (from matplotlib) (4.54.1)\n",
      "Requirement already satisfied: kiwisolver>=1.3.1 in /home/mkherraz001/miniconda3/envs/torch/lib/python3.12/site-packages (from matplotlib) (1.4.7)\n",
      "Requirement already satisfied: packaging>=20.0 in /home/mkherraz001/miniconda3/envs/torch/lib/python3.12/site-packages (from matplotlib) (24.1)\n",
      "Requirement already satisfied: pillow>=8 in /home/mkherraz001/miniconda3/envs/torch/lib/python3.12/site-packages (from matplotlib) (11.0.0)\n",
      "Requirement already satisfied: pyparsing>=2.3.1 in /home/mkherraz001/miniconda3/envs/torch/lib/python3.12/site-packages (from matplotlib) (3.2.0)\n",
      "Requirement already satisfied: python-dateutil>=2.7 in /home/mkherraz001/miniconda3/envs/torch/lib/python3.12/site-packages (from matplotlib) (2.9.0.post0)\n",
      "Requirement already satisfied: filelock in /home/mkherraz001/miniconda3/envs/torch/lib/python3.12/site-packages (from torch) (3.16.1)\n",
      "Requirement already satisfied: typing-extensions>=4.8.0 in /home/mkherraz001/miniconda3/envs/torch/lib/python3.12/site-packages (from torch) (4.12.2)\n",
      "Requirement already satisfied: setuptools in /home/mkherraz001/miniconda3/envs/torch/lib/python3.12/site-packages (from torch) (75.3.0)\n",
      "Requirement already satisfied: sympy==1.13.1 in /home/mkherraz001/miniconda3/envs/torch/lib/python3.12/site-packages (from torch) (1.13.1)\n",
      "Requirement already satisfied: networkx in /home/mkherraz001/miniconda3/envs/torch/lib/python3.12/site-packages (from torch) (3.4.2)\n",
      "Requirement already satisfied: jinja2 in /home/mkherraz001/miniconda3/envs/torch/lib/python3.12/site-packages (from torch) (3.1.4)\n",
      "Requirement already satisfied: fsspec in /home/mkherraz001/miniconda3/envs/torch/lib/python3.12/site-packages (from torch) (2024.10.0)\n",
      "Requirement already satisfied: mpmath<1.4,>=1.1.0 in /home/mkherraz001/miniconda3/envs/torch/lib/python3.12/site-packages (from sympy==1.13.1->torch) (1.3.0)\n",
      "Requirement already satisfied: six>=1.5 in /home/mkherraz001/miniconda3/envs/torch/lib/python3.12/site-packages (from python-dateutil>=2.7->matplotlib) (1.16.0)\n",
      "Requirement already satisfied: MarkupSafe>=2.0 in /home/mkherraz001/miniconda3/envs/torch/lib/python3.12/site-packages (from jinja2->torch) (2.1.5)\n",
      "Note: you may need to restart the kernel to use updated packages.\n"
     ]
    }
   ],
   "source": [
    "%pip install numpy matplotlib torch torchvision flopco-pytorch"
   ]
  },
  {
   "cell_type": "code",
   "execution_count": 6,
   "id": "3fa31e27-7e66-4dce-bb3c-6ce38b88b8cc",
   "metadata": {
    "id": "3fa31e27-7e66-4dce-bb3c-6ce38b88b8cc"
   },
   "outputs": [
    {
     "name": "stdout",
     "output_type": "stream",
     "text": [
      "Using device cuda\n"
     ]
    }
   ],
   "source": [
    "import time\n",
    "import torch\n",
    "import torch.nn as nn\n",
    "\n",
    "device = torch.device(\"cuda\" if torch.cuda.is_available() else \"cpu\")\n",
    "print(f\"Using device {device}\")\n",
    "\n",
    "dtype = torch.float32\n",
    "dtype_bytes = torch.finfo(dtype).bits / 8 # number of bytes per float"
   ]
  },
  {
   "cell_type": "markdown",
   "id": "pQopcA7WPLeP",
   "metadata": {
    "id": "pQopcA7WPLeP"
   },
   "source": [
    "## Arithmetic intensity"
   ]
  },
  {
   "cell_type": "code",
   "execution_count": 7,
   "id": "604e7f4a",
   "metadata": {
    "id": "604e7f4a"
   },
   "outputs": [
    {
     "name": "stdout",
     "output_type": "stream",
     "text": [
      "Threshold = 27.0 operations / byte\n"
     ]
    }
   ],
   "source": [
    "# Specs of T4 (colab) for float32, change with your GPU's\n",
    "peak_flops = 8.1 * 1e12\n",
    "peak_bandwidth = 300 * 1e9\n",
    "\n",
    "# pivotal point between compute and memory bound\n",
    "threshold = peak_flops / peak_bandwidth\n",
    "print(f\"Threshold = {threshold} operations / byte\")\n",
    "\n",
    "def analyze_computation(num_ops, memory_moved):\n",
    "  # Displays information according to the number of arithmetic operations performed,\n",
    "  #   and the amount of float transferred\n",
    "\n",
    "  # Number of operations performed per byte transferred\n",
    "  arithmetic_intensity = num_ops / memory_moved\n",
    "  print(f\"Arithmetic intensity = {arithmetic_intensity:.4f} operations / byte (threshold = {threshold})\")\n",
    "\n",
    "  # Number of operations per second (bound by our gpu specs)\n",
    "  print(f\"Estimated FLOP/s : {min(peak_flops, arithmetic_intensity * peak_bandwidth) / 1e9:.2f} GFLOP/s\")\n",
    "\n",
    "  if arithmetic_intensity > threshold:\n",
    "      print(\"This operation is compute-bound\")\n",
    "  else:\n",
    "      print(\"This operation is memory-bound\")"
   ]
  },
  {
   "cell_type": "markdown",
   "id": "daf79fcb",
   "metadata": {
    "id": "daf79fcb"
   },
   "source": [
    "A linear layer is $$y = Wx + b$$\n",
    "\n",
    "#### How much data is moved?\n",
    "- $W$ is a matrix of size $n_{out} \\times n_{in}$\n",
    "- $b$ is a vector of size $n_{out}$\n",
    "- $x$ is a matrix of size $n_{in} \\times \\text{batch}$\n",
    "- $y$ is a matrix of size $n_{out} \\times \\text{batch}$\n",
    "\n",
    "We need to load $W$, $b$ and $x$, and to store the result $y$:\\\n",
    "$\\text{mem} = (n_{out} \\times n_{in}) + n_{out} + (n_{in} \\times \\text{batch}) + (n_{out} \\times \\text{batch})$\n",
    "\n",
    "#### How much arithmetic is done?\n",
    "$\\text{num_ops} = \\text{batch} \\times 2 \\times n_{in} \\times n_{out}$ \\\n",
    "(see previous lecture)\n"
   ]
  },
  {
   "cell_type": "code",
   "execution_count": 8,
   "id": "63e5c85f",
   "metadata": {
    "id": "63e5c85f"
   },
   "outputs": [
    {
     "name": "stdout",
     "output_type": "stream",
     "text": [
      "Arithmetic intensity = 0.4985 operations / byte (threshold = 27.0)\n",
      "Estimated FLOP/s : 149.56 GFLOP/s\n",
      "This operation is memory-bound\n",
      "Time taken: 0.05434441566467285s\n",
      "Achieved FLOP/s: 38.59 GFLOP/s (0.48% of theoretical max)\n",
      "Module              FLOP    % Total\n",
      "-------------  ---------  ---------\n",
      "Linear         2097.152K    100.00%\n",
      " - aten.addmm  2097.152K    100.00%\n",
      "Estimated by us: 2097152 ; estimated by torch: 2097152\n"
     ]
    }
   ],
   "source": [
    "batch_size = 1\n",
    "nin = 1024\n",
    "nout = 1024\n",
    "\n",
    "x = torch.randn(batch_size, nin, device=device, dtype=dtype)\n",
    "layer = torch.nn.Linear(nin, nout, bias=True, device = device)\n",
    "\n",
    "# Apply formulas above\n",
    "num_ops = batch_size * (2 * nout * nin)\n",
    "memory_moved = (nout * nin) + nout + (nin * batch_size) + (nout * batch_size)\n",
    "memory_moved *= dtype_bytes # never forget to multiply by dtype\n",
    "\n",
    "analyze_computation(num_ops, memory_moved)\n",
    "\n",
    "# See if we can measure the same flops as expected\n",
    "niters = 1000\n",
    "y = layer(x) # warmup & pre-allocation\n",
    "start = time.time()\n",
    "for _ in range(niters):\n",
    "    y = layer(x)\n",
    "    if torch.cuda.is_available(): torch.cuda.synchronize()\n",
    "    end = time.time()\n",
    "elapsed = time.time() - start\n",
    "\n",
    "print(f\"Time taken: {elapsed}s\")\n",
    "achieved_flops = (num_ops * niters) / elapsed\n",
    "print(f\"Achieved FLOP/s: {achieved_flops / 1e9:.2f} GFLOP/s ({100 * achieved_flops / peak_flops:.2f}% of theoretical max)\")\n",
    "\n",
    "from torch.utils.flop_counter import FlopCounterMode\n",
    "\n",
    "with FlopCounterMode() as fc:\n",
    "    y = layer(x)\n",
    "\n",
    "print(f\"Estimated by us: {num_ops} ; estimated by torch: {fc.get_total_flops()}\")"
   ]
  },
  {
   "cell_type": "code",
   "execution_count": 9,
   "id": "9-3zya-BoTQd",
   "metadata": {
    "id": "9-3zya-BoTQd"
   },
   "outputs": [
    {
     "data": {
      "image/png": "[encoded data removed]",
      "text/plain": [
       "<Figure size 640x480 with 1 Axes>"
      ]
     },
     "metadata": {},
     "output_type": "display_data"
    },
    {
     "data": {
      "image/png": "[encoded data removed]",
      "text/plain": [
       "<Figure size 640x480 with 1 Axes>"
      ]
     },
     "metadata": {},
     "output_type": "display_data"
    }
   ],
   "source": [
    "import matplotlib.pyplot as plt\n",
    "\n",
    "sizes = [2 ** x for x in range(12)]\n",
    "theoretical_flops = []\n",
    "measured_flops = []\n",
    "arithmetic_intensities = []\n",
    "for b in sizes:\n",
    "  # We can estimate with formulas\n",
    "  num_ops = b * (2 * nout * nin)\n",
    "  memory_moved = (nout * nin) + nout + (nin * batch_size) + (nout * batch_size)\n",
    "  memory_moved *= dtype_bytes\n",
    "  ai = num_ops / memory_moved\n",
    "  arithmetic_intensities.append(ai)\n",
    "  estimated_flops = min(peak_flops, ai * peak_bandwidth)\n",
    "  theoretical_flops.append(estimated_flops)\n",
    "\n",
    "  # Or use FlopCounterMode to get theoretical flops\n",
    "  # And measure time\n",
    "  x = torch.randn(b, nin, device=device, dtype=dtype)\n",
    "  y = layer(x) # warmup & pre-allocation\n",
    "  with FlopCounterMode(display=False) as fc:\n",
    "    start = time.time()\n",
    "    y = layer(x)\n",
    "    if torch.cuda.is_available(): torch.cuda.synchronize()\n",
    "    end = time.time()\n",
    "  measured_flops.append(fc.get_total_flops() / (end - start))\n",
    "\n",
    "plt.plot(sizes, arithmetic_intensities, label = \"Arithmetic intensities\")\n",
    "plt.plot(sizes, [threshold for _ in sizes], label = \"Turning point\")\n",
    "plt.yscale(\"log\")\n",
    "plt.xscale(\"log\", base = 2)\n",
    "plt.xlabel(\"Batch size\")\n",
    "plt.ylabel(\"Arithmetic intensity\")\n",
    "plt.legend()\n",
    "plt.show()\n",
    "\n",
    "plt.plot(sizes, theoretical_flops, label = \"Theoretical FLOP/s\")\n",
    "plt.plot(sizes, measured_flops, label = \"Measured FLOP/s\")\n",
    "plt.xlabel(\"Batch size\")\n",
    "plt.ylabel(\"FLOP/s\")\n",
    "plt.yscale(\"log\")\n",
    "plt.xscale(\"log\", base=2)\n",
    "plt.legend()\n",
    "plt.show()\n"
   ]
  },
  {
   "cell_type": "markdown",
   "id": "6f6a1fa7",
   "metadata": {
    "id": "6f6a1fa7"
   },
   "source": [
    "Another simple example is an element-wise operation such as ReLU.\n",
    "\n",
    "Number of operations = number of elements \\\n",
    "Number of bytes moved = number of elements * 2 (load and store)"
   ]
  },
  {
   "cell_type": "code",
   "execution_count": 10,
   "id": "9a88c959",
   "metadata": {
    "id": "9a88c959"
   },
   "outputs": [
    {
     "name": "stdout",
     "output_type": "stream",
     "text": [
      "Arithmetic intensity = 0.0001 operations / byte (threshold = 27.0)\n",
      "Estimated FLOP/s : 0.04 GFLOP/s\n",
      "This operation is memory-bound\n",
      "Time taken: 0.052577972412109375s\n",
      "Achieved FLOP/s: 39.89 GFLOP/s (0.49% of theoretical max)\n"
     ]
    }
   ],
   "source": [
    "num_ops = b * nin\n",
    "memory_moved = 2 * nin * nout * b\n",
    "memory_moved *= dtype_bytes\n",
    "\n",
    "analyze_computation(num_ops, memory_moved)\n",
    "\n",
    "x = torch.randn(b, nin, device=device, dtype=dtype)\n",
    "y = torch.empty_like(x)\n",
    "\n",
    "niters = 1000\n",
    "y = x.relu() # warmup & pre-allocation\n",
    "start = time.time()\n",
    "for _ in range(niters):\n",
    "    y = x.relu()\n",
    "if torch.cuda.is_available(): torch.cuda.synchronize()\n",
    "end = time.time()\n",
    "elapsed = (end - start)\n",
    "\n",
    "print(f\"Time taken: {elapsed}s\")\n",
    "achieved_flops = (num_ops * niters) / elapsed\n",
    "print(f\"Achieved FLOP/s: {achieved_flops / 1e9:.2f} GFLOP/s ({100 * achieved_flops / peak_flops:.2f}% of theoretical max)\")\n"
   ]
  },
  {
   "cell_type": "markdown",
   "id": "qWP6F0Ntahyb",
   "metadata": {
    "id": "qWP6F0Ntahyb"
   },
   "source": [
    "Can you find a case where ReLU is compute bound? What would it need in order to be possible?\n",
    "\n",
    "Element-wise operations such as ReLU are heavily memory bound. One way to improve their efficiency is to do *operation fusing* to limit memory transfers.\n",
    "\n",
    "\n",
    "```\n",
    "                    |--->|                              |--->|\n",
    "                    |    |                              |    |\n",
    "                    |<---|                              |    |\n",
    "               data |    | compute                 data |    | compute\n",
    "                    |--->|                              |    |\n",
    "                    |    |                              |    |\n",
    "                    |<---|                              |<---|\n",
    "\n",
    "```\n",
    "\n"
   ]
  },
  {
   "cell_type": "code",
   "execution_count": 11,
   "id": "cf4bd670",
   "metadata": {
    "id": "cf4bd670"
   },
   "outputs": [
    {
     "name": "stdout",
     "output_type": "stream",
     "text": [
      "\n",
      "-- Without fusion --\n",
      "\n",
      "Arithmetic intensity = 0.5995 operations / byte (threshold = 27.0)\n",
      "Estimated FLOP/s : 179.85 GFLOP/s\n",
      "This operation is memory-bound\n",
      "Time taken: 0.11283326148986816s\n",
      "Achieved FLOP/s: 156.82 GFLOP/s (1.94% of theoretical max)\n",
      "\n",
      "-- With fusion --\n",
      "\n",
      "Arithmetic intensity = 0.7492 operations / byte (threshold = 27.0)\n",
      "Estimated FLOP/s : 224.77 GFLOP/s\n",
      "This operation is memory-bound\n",
      "Time taken: 0.11231255531311035s\n",
      "Achieved FLOP/s: 157.55 GFLOP/s (1.95% of theoretical max)\n"
     ]
    }
   ],
   "source": [
    "b = 64\n",
    "c_in = 1\n",
    "c_out = 256\n",
    "h = 30\n",
    "w = 30\n",
    "k = 3\n",
    "\n",
    "model = nn.Sequential(\n",
    "    nn.Conv2d(c_in, c_out, k, padding = 'same', bias = False),\n",
    "    nn.BatchNorm2d(c_out),\n",
    "    nn.ReLU()\n",
    ").to(device)\n",
    "model.eval()\n",
    "\n",
    "h_out, w_out = h, w # we used padding \"same\"\n",
    "\n",
    "num_ops = b * c_in * c_out * h * w * (k**2) # conv\n",
    "num_ops += 2 * b * c_out * h_out * w # batch norm\n",
    "num_ops += b * c_out * h_out * w_out # relu\n",
    "memory_moved = c_in * c_out * (k**2) # conv parameters\n",
    "memory_moved += b * c_in * h_out * w_out # img\n",
    "memory_moved += b * c_out * h_out * w_out # store output of conv\n",
    "memory_moved += b * c_out * h_out * w_out # re-load it for batchnorm\n",
    "memory_moved += b * c_out * h_out * w_out # store it after batchnorm\n",
    "memory_moved += b * c_out * h_out * w_out # re-load it for relu\n",
    "memory_moved += b * c_out * h_out * w_out # store it after relu\n",
    "memory_moved *= dtype_bytes\n",
    "\n",
    "\n",
    "print(\"\\n-- Without fusion --\\n\")\n",
    "analyze_computation(num_ops, memory_moved)\n",
    "\n",
    "x = torch.randn(b, c_in, h, w, device=device, dtype=dtype)\n",
    "\n",
    "niters = 100\n",
    "y = model(x) # warmup & pre-allocation\n",
    "start = time.time()\n",
    "for _ in range(niters):\n",
    "    y = model(x)\n",
    "if torch.cuda.is_available(): torch.cuda.synchronize()\n",
    "end = time.time()\n",
    "elapsed = end - start\n",
    "\n",
    "achieved_flops = (num_ops * niters) / elapsed\n",
    "print(f\"Time taken: {elapsed}s\")\n",
    "print(f\"Achieved FLOP/s: {achieved_flops / 1e9:.2f} GFLOP/s ({100 * achieved_flops / peak_flops:.2f}% of theoretical max)\")\n",
    "\n",
    "\n",
    "print(\"\\n-- With fusion --\\n\")\n",
    "# Inference only!\n",
    "fused_model = torch.ao.quantization.fuse_modules(model, ['0', '1', '2']) # fuse modules 0, 1 and 2\n",
    "\n",
    "memory_moved -= 4 * b * (c_out * h_out * w_out) # we got rid of two back-and-forth\n",
    "analyze_computation(num_ops, memory_moved)\n",
    "\n",
    "y = fused_model(x) # warmup & pre-allocation\n",
    "start = time.time()\n",
    "for _ in range(niters):\n",
    "    y = fused_model(x)\n",
    "if torch.cuda.is_available(): torch.cuda.synchronize()\n",
    "end = time.time()\n",
    "\n",
    "elapsed = end - start\n",
    "achieved_flops = (num_ops * niters) / elapsed\n",
    "print(f\"Time taken: {elapsed}s\")\n",
    "print(f\"Achieved FLOP/s: {achieved_flops / 1e9:.2f} GFLOP/s ({100 * achieved_flops / peak_flops:.2f}% of theoretical max)\")"
   ]
  },
  {
   "cell_type": "markdown",
   "id": "Whj25SZ6gkPo",
   "metadata": {
    "id": "Whj25SZ6gkPo"
   },
   "source": [
    "**Exercise:** In this example, both non-fused and fused models are memory bound. Can you create a model that is originally memory-bound, and becomes compute-bound when fusing it ?"
   ]
  },
  {
   "cell_type": "markdown",
   "id": "jE-RkZ86Zyh8",
   "metadata": {
    "id": "jE-RkZ86Zyh8"
   },
   "source": [
    "**Exercise:** Finding the amount of memory transfers needed for a big model is tedious. Write a piece of code that extracts this data from an execution. Then, use FlopCo or torch's flop counter to find the arithmetic intensity of each layer.\n",
    "\n",
    "*Hint: FlopCo gives info about input/output shapes for each layer*"
   ]
  },
  {
   "cell_type": "code",
   "execution_count": 12,
   "id": "uOu3J8sTQ8Mn",
   "metadata": {
    "id": "uOu3J8sTQ8Mn"
   },
   "outputs": [
    {
     "name": "stdout",
     "output_type": "stream",
     "text": [
      "Available data: ['__class__', '__delattr__', '__dict__', '__dir__', '__doc__', '__eq__', '__format__', '__ge__', '__getattribute__', '__getstate__', '__gt__', '__hash__', '__init__', '__init_subclass__', '__le__', '__lt__', '__module__', '__ne__', '__new__', '__reduce__', '__reduce_ex__', '__repr__', '__setattr__', '__sizeof__', '__str__', '__subclasshook__', '__weakref__', '_save_flops', '_save_macs', '_save_shapes', 'count_params', 'custom_tensor', 'device', 'flops', 'get_ltypes', 'get_stats', 'img_size', 'input_shapes', 'instances', 'ltypes', 'macs', 'output_shapes', 'params', 'relative_flops', 'relative_macs', 'relative_params', 'total_flops', 'total_macs', 'total_params']\n"
     ]
    }
   ],
   "source": [
    "from torchvision.models import resnet18\n",
    "model = resnet18()\n",
    "\n",
    "from flopco import FlopCo\n",
    "\n",
    "stats = FlopCo(model, img_size = (1, 3, 224, 224), instances = [nn.Conv2d, nn.Linear, nn.BatchNorm2d])\n",
    "\n",
    "print(f\"Available data: {dir(stats)}\")\n",
    "\n",
    "for lname in stats.flops.keys():\n",
    "  # TODO: Automatically compute the memory transferred\n",
    "  #         and the arithmetic intensity of each layer\n",
    "  ...\n",
    "\n"
   ]
  },
  {
   "cell_type": "markdown",
   "id": "086cecac",
   "metadata": {
    "id": "086cecac"
   },
   "source": [
    "## Memory estimation"
   ]
  },
  {
   "cell_type": "code",
   "execution_count": 13,
   "id": "NWtjEr7Fyta1",
   "metadata": {
    "id": "NWtjEr7Fyta1"
   },
   "outputs": [
    {
     "name": "stdout",
     "output_type": "stream",
     "text": [
      "Wed Dec 11 17:50:21 2024       \n",
      "+-----------------------------------------------------------------------------------------+\n",
      "| NVIDIA-SMI 550.107.02             Driver Version: 550.107.02     CUDA Version: 12.4     |\n",
      "|-----------------------------------------+------------------------+----------------------+\n",
      "| GPU  Name                 Persistence-M | Bus-Id          Disp.A | Volatile Uncorr. ECC |\n",
      "| Fan  Temp   Perf          Pwr:Usage/Cap |           Memory-Usage | GPU-Util  Compute M. |\n",
      "|                                         |                        |               MIG M. |\n",
      "|=========================================+========================+======================|\n",
      "|   0  NVIDIA GeForce RTX 3060        Off |   00000000:01:00.0 Off |                  N/A |\n",
      "|  0%   60C    P2             44W /  170W |    1538MiB /  12288MiB |      3%      Default |\n",
      "|                                         |                        |                  N/A |\n",
      "+-----------------------------------------+------------------------+----------------------+\n",
      "                                                                                         \n",
      "+-----------------------------------------------------------------------------------------+\n",
      "| Processes:                                                                              |\n",
      "|  GPU   GI   CI        PID   Type   Process name                              GPU Memory |\n",
      "|        ID   ID                                                               Usage      |\n",
      "|=========================================================================================|\n",
      "|    0   N/A  N/A      3240      G   /usr/lib/xorg/Xorg                              4MiB |\n",
      "|    0   N/A  N/A    205703      C   ...01/miniconda3/envs/torch/bin/python       1312MiB |\n",
      "|    0   N/A  N/A    207056      C   ...01/miniconda3/envs/torch/bin/python        210MiB |\n",
      "+-----------------------------------------------------------------------------------------+\n"
     ]
    }
   ],
   "source": [
    "!nvidia-smi"
   ]
  },
  {
   "cell_type": "code",
   "execution_count": 14,
   "id": "cNjmfmdWy3uV",
   "metadata": {
    "id": "cNjmfmdWy3uV"
   },
   "outputs": [
    {
     "name": "stdout",
     "output_type": "stream",
     "text": [
      "Total memory : 11.755 GB\n"
     ]
    }
   ],
   "source": [
    "total_mem = torch.cuda.get_device_properties(device).total_memory\n",
    "print(f\"Total memory : {total_mem / 2**30:.3f} GB\")"
   ]
  },
  {
   "cell_type": "markdown",
   "id": "IgUkTBo0yqQ5",
   "metadata": {
    "id": "IgUkTBo0yqQ5"
   },
   "source": [
    "Let's consider the model below:"
   ]
  },
  {
   "cell_type": "code",
   "execution_count": 15,
   "id": "e4df0384",
   "metadata": {
    "id": "e4df0384"
   },
   "outputs": [
    {
     "name": "stdout",
     "output_type": "stream",
     "text": [
      "Number of parameters : 134144\n",
      "Number of buffers : 0\n"
     ]
    }
   ],
   "source": [
    "import torch.nn as nn\n",
    "\n",
    "model = nn.Sequential(\n",
    "    nn.Linear(512, 256, bias = False),\n",
    "    nn.LayerNorm(256),\n",
    "    nn.ReLU(),\n",
    "    nn.Linear(256, 10, bias = False)\n",
    ")\n",
    "\n",
    "nparams = sum(p.numel() for p in model.parameters())\n",
    "print(f\"Number of parameters : {nparams}\")\n",
    "# Some layers like BatchNorm also use buffers during training\n",
    "print(f\"Number of buffers : {sum(p.numel() for p in model.buffers())}\")\n",
    "\n",
    "batch_size = 32\n",
    "criterion = nn.CrossEntropyLoss()"
   ]
  },
  {
   "cell_type": "markdown",
   "id": "5f3ce4e9",
   "metadata": {
    "id": "5f3ce4e9"
   },
   "source": [
    "We can estimate the memory needed to train this model:\n",
    "\n",
    "- Parameters: $\\text{nb_params}$\n",
    "- Activations:\n",
    "    - Linear 1 : $B \\times 256$\n",
    "    - LayerNorm: $B \\times 256$\n",
    "    - ReLU: $B \\times 256$\n",
    "    - Linear 2: $B \\times 10$\n",
    "- Gradients: $\\text{nb_params}$\n",
    "- Optimizer states: $2 \\times \\text{nb_params}$ (for Adam)\n",
    "\n",
    "Everything is float32, so we multiply by 4."
   ]
  },
  {
   "cell_type": "code",
   "execution_count": 16,
   "id": "08f5eb65",
   "metadata": {
    "id": "08f5eb65"
   },
   "outputs": [
    {
     "name": "stdout",
     "output_type": "stream",
     "text": [
      "Estimated: 536576.0, actual : 536576\n",
      "Estimated: 636160.0, actual : 670208\n",
      "Estimated: 1073152.0, actual : 9594880\n",
      "Estimated: 2146304.0, actual : 10668032\n"
     ]
    }
   ],
   "source": [
    "params_mem = nparams * dtype_bytes\n",
    "activations_mem = batch_size * (3 * 256 + 10) * dtype_bytes\n",
    "grads_mem = nparams * dtype_bytes\n",
    "optimizer_mem = 2 * nparams * dtype_bytes\n",
    "\n",
    "# Reset\n",
    "model.cpu()\n",
    "model.zero_grad()\n",
    "\n",
    "x = torch.randn(batch_size, 512)\n",
    "target = torch.randint(0, 10, (batch_size,))\n",
    "\n",
    "if torch.cuda.is_available():\n",
    "    initial_mem = torch.cuda.memory_allocated()\n",
    "\n",
    "    model.cuda()\n",
    "    print(f\"Estimated: {params_mem}, actual : {torch.cuda.memory_allocated() - initial_mem}\")\n",
    "\n",
    "    output = model(x.cuda())\n",
    "    print(f\"Estimated: {params_mem + activations_mem}, actual : {torch.cuda.memory_allocated() - initial_mem}\")\n",
    "\n",
    "    loss = criterion(output, target.cuda())\n",
    "    loss.backward()\n",
    "    print(f\"Estimated: {params_mem + grads_mem}, actual : {torch.cuda.memory_allocated() - initial_mem}\") # Activations were freed after backward\n",
    "\n",
    "    optimizer = torch.optim.Adam(model.parameters())\n",
    "    optimizer.step()\n",
    "    print(f\"Estimated: {params_mem + grads_mem + optimizer_mem}, actual : {torch.cuda.memory_allocated() - initial_mem}\")\n",
    "\n"
   ]
  },
  {
   "cell_type": "markdown",
   "id": "_KM1ATAPYzXc",
   "metadata": {
    "id": "_KM1ATAPYzXc"
   },
   "source": [
    "### PyTorch profiler\n",
    "\n",
    "Torch provides an useful tool to analyze both memory and cuda/cpu computation. Here's an example on how to run it."
   ]
  },
  {
   "cell_type": "code",
   "execution_count": 17,
   "id": "ad76ef72",
   "metadata": {
    "id": "ad76ef72"
   },
   "outputs": [
    {
     "name": "stdout",
     "output_type": "stream",
     "text": [
      "-------------------------------------------------------  ------------  ------------  ------------  ------------  ------------  ------------  ------------  ------------  ------------  ------------  ------------  ------------  \n",
      "                                                   Name    Self CPU %      Self CPU   CPU total %     CPU total  CPU time avg     Self CUDA   Self CUDA %    CUDA total  CUDA time avg       CPU Mem  Self CPU Mem    # of Calls  \n",
      "-------------------------------------------------------  ------------  ------------  ------------  ------------  ------------  ------------  ------------  ------------  ------------  ------------  ------------  ------------  \n",
      "void at::native::(anonymous namespace)::multi_tensor...         0.00%       0.000us         0.00%       0.000us       0.000us      13.088us        19.60%      13.088us      13.088us           0 b           0 b             1  \n",
      "                        ampere_sgemm_64x32_sliced1x4_tn         0.00%       0.000us         0.00%       0.000us       0.000us       7.488us        11.21%       7.488us       7.488us           0 b           0 b             1  \n",
      "                       Memcpy HtoD (Pageable -> Device)         0.00%       0.000us         0.00%       0.000us       0.000us       6.785us        10.16%       6.785us       3.392us           0 b           0 b             2  \n",
      "                        ampere_sgemm_32x32_sliced1x4_tn         0.00%       0.000us         0.00%       0.000us       0.000us       6.688us        10.01%       6.688us       6.688us           0 b           0 b             1  \n",
      "                                 ampere_sgemm_128x32_nt         0.00%       0.000us         0.00%       0.000us       0.000us       5.088us         7.62%       5.088us       5.088us           0 b           0 b             1  \n",
      "                        ampere_sgemm_32x32_sliced1x4_nt         0.00%       0.000us         0.00%       0.000us       0.000us       3.840us         5.75%       3.840us       3.840us           0 b           0 b             1  \n",
      "void at::native::(anonymous namespace)::vectorized_l...         0.00%       0.000us         0.00%       0.000us       0.000us       3.264us         4.89%       3.264us       3.264us           0 b           0 b             1  \n",
      "                                 ampere_sgemm_32x128_nn         0.00%       0.000us         0.00%       0.000us       0.000us       3.136us         4.70%       3.136us       3.136us           0 b           0 b             1  \n",
      "void cublasLt::splitKreduce_kernel<32, 16, int, floa...         0.00%       0.000us         0.00%       0.000us       0.000us       2.976us         4.46%       2.976us       1.488us           0 b           0 b             2  \n",
      "void at::native::(anonymous namespace)::GammaBetaBac...         0.00%       0.000us         0.00%       0.000us       0.000us       2.624us         3.93%       2.624us       2.624us           0 b           0 b             1  \n",
      "-------------------------------------------------------  ------------  ------------  ------------  ------------  ------------  ------------  ------------  ------------  ------------  ------------  ------------  ------------  \n",
      "Self CPU time total: 11.312ms\n",
      "Self CUDA time total: 66.784us\n",
      "\n",
      "-------------------------------------------------------  ------------  ------------  ------------  ------------  ------------  ------------  ------------  ------------  ------------  ------------  ------------  ------------  \n",
      "                                                   Name    Self CPU %      Self CPU   CPU total %     CPU total  CPU time avg     Self CUDA   Self CUDA %    CUDA total  CUDA time avg       CPU Mem  Self CPU Mem    # of Calls  \n",
      "-------------------------------------------------------  ------------  ------------  ------------  ------------  ------------  ------------  ------------  ------------  ------------  ------------  ------------  ------------  \n",
      "                                               [memory]         0.00%       0.000us         0.00%       0.000us       0.000us       0.000us         0.00%       0.000us       0.000us           0 b           0 b            42  \n",
      "                                        cudaMemcpyAsync         0.63%      71.556us         0.63%      71.556us      35.778us       0.000us         0.00%       0.000us       0.000us           0 b           0 b             2  \n",
      "                       Memcpy HtoD (Pageable -> Device)         0.00%       0.000us         0.00%       0.000us       0.000us       6.785us        10.16%       6.785us       3.392us           0 b           0 b             2  \n",
      "                                  cudaStreamSynchronize         0.14%      15.703us         0.14%      15.703us       7.851us       0.000us         0.00%       0.000us       0.000us           0 b           0 b             2  \n",
      "          cudaOccupancyMaxActiveBlocksPerMultiprocessor         2.09%     236.454us         2.09%     236.454us      59.113us       0.000us         0.00%       0.000us       0.000us           0 b           0 b             4  \n",
      "                                       cudaLaunchKernel        97.04%      10.978ms        97.04%      10.978ms     577.765us       0.000us         0.00%       0.000us       0.000us           0 b           0 b            19  \n",
      "                        ampere_sgemm_64x32_sliced1x4_tn         0.00%       0.000us         0.00%       0.000us       0.000us       7.488us        11.21%       7.488us       7.488us           0 b           0 b             1  \n",
      "void cublasLt::splitKreduce_kernel<32, 16, int, floa...         0.00%       0.000us         0.00%       0.000us       0.000us       2.976us         4.46%       2.976us       1.488us           0 b           0 b             2  \n",
      "void at::native::(anonymous namespace)::vectorized_l...         0.00%       0.000us         0.00%       0.000us       0.000us       3.264us         4.89%       3.264us       3.264us           0 b           0 b             1  \n",
      "void at::native::vectorized_elementwise_kernel<4, at...         0.00%       0.000us         0.00%       0.000us       0.000us       1.120us         1.68%       1.120us       1.120us           0 b           0 b             1  \n",
      "-------------------------------------------------------  ------------  ------------  ------------  ------------  ------------  ------------  ------------  ------------  ------------  ------------  ------------  ------------  \n",
      "Self CPU time total: 11.312ms\n",
      "Self CUDA time total: 66.784us\n",
      "\n"
     ]
    },
    {
     "name": "stderr",
     "output_type": "stream",
     "text": [
      "[W1211 17:50:21.059217253 collection.cpp:979] Warning: Failed to recover relationship between all profiler and kineto events: 42 vs. 0  reassociated. (function reassociate)\n"
     ]
    }
   ],
   "source": [
    "from torch.profiler import profile, record_function, ProfilerActivity\n",
    "# Profile one training step\n",
    "if torch.cuda.is_available():\n",
    "  activity = ProfilerActivity.CUDA\n",
    "  dev_name = 'cuda'\n",
    "else:\n",
    "  activity = ProfilerActivity.CPU\n",
    "  dev_name = 'cpu'\n",
    "\n",
    "model = model.to(device)\n",
    "optimizer = torch.optim.SGD(model.parameters())\n",
    "with profile(activities=[activity],\n",
    "            profile_memory=True, with_flops=True) as prof:\n",
    "    with record_function(\"training_batch\"):\n",
    "        # Forward pass\n",
    "        output = model(x.to(device))\n",
    "        loss = criterion(output, target.to(device))\n",
    "\n",
    "        # Backward pass\n",
    "        optimizer.zero_grad()\n",
    "        loss.backward()\n",
    "        optimizer.step()\n",
    "\n",
    "# Print profiling results\n",
    "print(prof.key_averages().table(sort_by=f\"self_{dev_name}_time_total\", row_limit=10))\n",
    "\n",
    "print(prof.key_averages().table(sort_by=f\"self_{dev_name}_memory_usage\", row_limit=10))"
   ]
  },
  {
   "cell_type": "markdown",
   "id": "ElvWZyysZTvM",
   "metadata": {
    "id": "ElvWZyysZTvM"
   },
   "source": [
    "**Exercise:** Take a more complex model (from torchvision, huggingface, or one that you used before) and try to profile it. Does it fit in memory? What's taking most of the time? And memory?  "
   ]
  },
  {
   "cell_type": "code",
   "execution_count": 18,
   "id": "d7ed6477",
   "metadata": {
    "id": "d7ed6477"
   },
   "outputs": [
    {
     "name": "stdout",
     "output_type": "stream",
     "text": [
      "\n",
      "GPU Memory Usage:\n",
      "----------------------------------------\n",
      "Allocated: 78.8 MB\n",
      "Cached: 102.0 MB\n",
      "\n",
      "Detailed memory summary:\n",
      "|===========================================================================|\n",
      "|                  PyTorch CUDA memory summary, device ID 0                 |\n",
      "|---------------------------------------------------------------------------|\n",
      "|            CUDA OOMs: 0            |        cudaMalloc retries: 0         |\n",
      "|===========================================================================|\n",
      "|        Metric         | Cur Usage  | Peak Usage | Tot Alloc  | Tot Freed  |\n",
      "|---------------------------------------------------------------------------|\n",
      "| Allocated memory      |  80737 KiB | 308850 KiB |  38731 MiB |  38652 MiB |\n",
      "|       from large pool |  78336 KiB | 308608 KiB |  36496 MiB |  36420 MiB |\n",
      "|       from small pool |   2401 KiB |   5104 KiB |   2235 MiB |   2232 MiB |\n",
      "|---------------------------------------------------------------------------|\n",
      "| Active memory         |  80737 KiB | 308850 KiB |  38731 MiB |  38652 MiB |\n",
      "|       from large pool |  78336 KiB | 308608 KiB |  36496 MiB |  36420 MiB |\n",
      "|       from small pool |   2401 KiB |   5104 KiB |   2235 MiB |   2232 MiB |\n",
      "|---------------------------------------------------------------------------|\n",
      "| Requested memory      |  80736 KiB | 308850 KiB |  38731 MiB |  38652 MiB |\n",
      "|       from large pool |  78336 KiB | 308608 KiB |  36496 MiB |  36420 MiB |\n",
      "|       from small pool |   2400 KiB |   5104 KiB |   2235 MiB |   2232 MiB |\n",
      "|---------------------------------------------------------------------------|\n",
      "| GPU reserved memory   | 104448 KiB | 366592 KiB | 389120 KiB | 284672 KiB |\n",
      "|       from large pool | 100352 KiB | 358400 KiB | 378880 KiB | 278528 KiB |\n",
      "|       from small pool |   4096 KiB |   8192 KiB |  10240 KiB |   6144 KiB |\n",
      "|---------------------------------------------------------------------------|\n",
      "| Non-releasable memory |  23710 KiB |  39821 KiB |  11233 MiB |  11210 MiB |\n",
      "|       from large pool |  22016 KiB |  38016 KiB |   8995 MiB |   8974 MiB |\n",
      "|       from small pool |   1694 KiB |   3088 KiB |   2237 MiB |   2236 MiB |\n",
      "|---------------------------------------------------------------------------|\n",
      "| Allocations           |      28    |      35    |    5949    |    5921    |\n",
      "|       from large pool |       4    |       8    |    1521    |    1517    |\n",
      "|       from small pool |      24    |      31    |    4428    |    4404    |\n",
      "|---------------------------------------------------------------------------|\n",
      "| Active allocs         |      28    |      35    |    5949    |    5921    |\n",
      "|       from large pool |       4    |       8    |    1521    |    1517    |\n",
      "|       from small pool |      24    |      31    |    4428    |    4404    |\n",
      "|---------------------------------------------------------------------------|\n",
      "| GPU reserved segments |       5    |      12    |      14    |       9    |\n",
      "|       from large pool |       3    |       8    |       9    |       6    |\n",
      "|       from small pool |       2    |       4    |       5    |       3    |\n",
      "|---------------------------------------------------------------------------|\n",
      "| Non-releasable allocs |      10    |      13    |    2104    |    2094    |\n",
      "|       from large pool |       4    |       9    |    1015    |    1011    |\n",
      "|       from small pool |       6    |       9    |    1089    |    1083    |\n",
      "|---------------------------------------------------------------------------|\n",
      "| Oversize allocations  |       0    |       0    |       0    |       0    |\n",
      "|---------------------------------------------------------------------------|\n",
      "| Oversize GPU segments |       0    |       0    |       0    |       0    |\n",
      "|===========================================================================|\n",
      "\n"
     ]
    },
    {
     "name": "stderr",
     "output_type": "stream",
     "text": [
      "[W1211 17:50:21.085914597 unwind.cpp:214] Warning: Unsupported unwinding pattern: Address not in range (function unwinderFor)\n"
     ]
    }
   ],
   "source": [
    "if torch.cuda.is_available():\n",
    "    torch.cuda.memory._record_memory_history()\n",
    "    # Move model and data to GPU\n",
    "    model = model.cuda()\n",
    "    x = x.cuda()\n",
    "    target = target.cuda()\n",
    "\n",
    "    # Training setup\n",
    "    criterion = nn.CrossEntropyLoss()\n",
    "    optimizer = torch.optim.Adam(model.parameters())\n",
    "\n",
    "    # Do a few training steps to warm up\n",
    "    for _ in range(3):\n",
    "        output = model(x)\n",
    "        loss = criterion(output, target)\n",
    "        optimizer.zero_grad()\n",
    "        loss.backward()\n",
    "        optimizer.step()\n",
    "\n",
    "    # Export memory snapshot\n",
    "    print(\"\\nGPU Memory Usage:\")\n",
    "    print(\"-\" * 40)\n",
    "    print(f\"Allocated: {torch.cuda.memory_allocated() / 1024**2:.1f} MB\")\n",
    "    print(f\"Cached: {torch.cuda.memory_reserved() / 1024**2:.1f} MB\")\n",
    "    print(\"\\nDetailed memory summary:\")\n",
    "    print(torch.cuda.memory_summary())\n",
    "    torch.cuda.memory._dump_snapshot(\"my_snapshot.pickle\")"
   ]
  },
  {
   "cell_type": "markdown",
   "id": "e9fae1c8",
   "metadata": {
    "id": "e9fae1c8"
   },
   "source": [
    "Go to https://pytorch.org/memory_viz and upload the snapshot for a visualisation."
   ]
  },
  {
   "cell_type": "markdown",
   "id": "C8TQ14Q_TubK",
   "metadata": {
    "id": "C8TQ14Q_TubK"
   },
   "source": [
    "## Graph tracing & compiling\n",
    "\n",
    "When using complex models, it can be useful to extract the structure of the computation to know what's happening, and where are the bottlenecks.\n",
    "\n",
    "Torch provides different ways to extract a *computation graph* from a model. Here's how to use ``torch.fx``."
   ]
  },
  {
   "cell_type": "code",
   "execution_count": 19,
   "id": "YghvG6TBTocE",
   "metadata": {
    "id": "YghvG6TBTocE"
   },
   "outputs": [
    {
     "name": "stdout",
     "output_type": "stream",
     "text": [
      "\n",
      "\n",
      "\n",
      "def forward(self, x : torch.Tensor) -> torch.Tensor:\n",
      "    conv1 = self.conv1(x);  x = None\n",
      "    bn1 = self.bn1(conv1);  conv1 = None\n",
      "    relu = self.relu(bn1);  bn1 = None\n",
      "    maxpool = self.maxpool(relu);  relu = None\n",
      "    layer1_0_conv1 = getattr(self.layer1, \"0\").conv1(maxpool)\n",
      "    layer1_0_bn1 = getattr(self.layer1, \"0\").bn1(layer1_0_conv1);  layer1_0_conv1 = None\n",
      "    layer1_0_relu = getattr(self.layer1, \"0\").relu(layer1_0_bn1);  layer1_0_bn1 = None\n",
      "    layer1_0_conv2 = getattr(self.layer1, \"0\").conv2(layer1_0_relu);  layer1_0_relu = None\n",
      "    layer1_0_bn2 = getattr(self.layer1, \"0\").bn2(layer1_0_conv2);  layer1_0_conv2 = None\n",
      "    add = layer1_0_bn2 + maxpool;  layer1_0_bn2 = maxpool = None\n",
      "    layer1_0_relu_1 = getattr(self.layer1, \"0\").relu(add);  add = None\n",
      "    layer1_1_conv1 = getattr(self.layer1, \"1\").conv1(layer1_0_relu_1)\n",
      "    layer1_1_bn1 = getattr(self.layer1, \"1\").bn1(layer1_1_conv1);  layer1_1_conv1 = None\n",
      "    layer1_1_relu = getattr(self.layer1, \"1\").relu(layer1_1_bn1);  layer1_1_bn1 = None\n",
      "    layer1_1_conv2 = getattr(self.layer1, \"1\").conv2(layer1_1_relu);  layer1_1_relu = None\n",
      "    layer1_1_bn2 = getattr(self.layer1, \"1\").bn2(layer1_1_conv2);  layer1_1_conv2 = None\n",
      "    add_1 = layer1_1_bn2 + layer1_0_relu_1;  layer1_1_bn2 = layer1_0_relu_1 = None\n",
      "    layer1_1_relu_1 = getattr(self.layer1, \"1\").relu(add_1);  add_1 = None\n",
      "    layer2_0_conv1 = getattr(self.layer2, \"0\").conv1(layer1_1_relu_1)\n",
      "    layer2_0_bn1 = getattr(self.layer2, \"0\").bn1(layer2_0_conv1);  layer2_0_conv1 = None\n",
      "    layer2_0_relu = getattr(self.layer2, \"0\").relu(layer2_0_bn1);  layer2_0_bn1 = None\n",
      "    layer2_0_conv2 = getattr(self.layer2, \"0\").conv2(layer2_0_relu);  layer2_0_relu = None\n",
      "    layer2_0_bn2 = getattr(self.layer2, \"0\").bn2(layer2_0_conv2);  layer2_0_conv2 = None\n",
      "    layer2_0_downsample_0 = getattr(getattr(self.layer2, \"0\").downsample, \"0\")(layer1_1_relu_1);  layer1_1_relu_1 = None\n",
      "    layer2_0_downsample_1 = getattr(getattr(self.layer2, \"0\").downsample, \"1\")(layer2_0_downsample_0);  layer2_0_downsample_0 = None\n",
      "    add_2 = layer2_0_bn2 + layer2_0_downsample_1;  layer2_0_bn2 = layer2_0_downsample_1 = None\n",
      "    layer2_0_relu_1 = getattr(self.layer2, \"0\").relu(add_2);  add_2 = None\n",
      "    layer2_1_conv1 = getattr(self.layer2, \"1\").conv1(layer2_0_relu_1)\n",
      "    layer2_1_bn1 = getattr(self.layer2, \"1\").bn1(layer2_1_conv1);  layer2_1_conv1 = None\n",
      "    layer2_1_relu = getattr(self.layer2, \"1\").relu(layer2_1_bn1);  layer2_1_bn1 = None\n",
      "    layer2_1_conv2 = getattr(self.layer2, \"1\").conv2(layer2_1_relu);  layer2_1_relu = None\n",
      "    layer2_1_bn2 = getattr(self.layer2, \"1\").bn2(layer2_1_conv2);  layer2_1_conv2 = None\n",
      "    add_3 = layer2_1_bn2 + layer2_0_relu_1;  layer2_1_bn2 = layer2_0_relu_1 = None\n",
      "    layer2_1_relu_1 = getattr(self.layer2, \"1\").relu(add_3);  add_3 = None\n",
      "    layer3_0_conv1 = getattr(self.layer3, \"0\").conv1(layer2_1_relu_1)\n",
      "    layer3_0_bn1 = getattr(self.layer3, \"0\").bn1(layer3_0_conv1);  layer3_0_conv1 = None\n",
      "    layer3_0_relu = getattr(self.layer3, \"0\").relu(layer3_0_bn1);  layer3_0_bn1 = None\n",
      "    layer3_0_conv2 = getattr(self.layer3, \"0\").conv2(layer3_0_relu);  layer3_0_relu = None\n",
      "    layer3_0_bn2 = getattr(self.layer3, \"0\").bn2(layer3_0_conv2);  layer3_0_conv2 = None\n",
      "    layer3_0_downsample_0 = getattr(getattr(self.layer3, \"0\").downsample, \"0\")(layer2_1_relu_1);  layer2_1_relu_1 = None\n",
      "    layer3_0_downsample_1 = getattr(getattr(self.layer3, \"0\").downsample, \"1\")(layer3_0_downsample_0);  layer3_0_downsample_0 = None\n",
      "    add_4 = layer3_0_bn2 + layer3_0_downsample_1;  layer3_0_bn2 = layer3_0_downsample_1 = None\n",
      "    layer3_0_relu_1 = getattr(self.layer3, \"0\").relu(add_4);  add_4 = None\n",
      "    layer3_1_conv1 = getattr(self.layer3, \"1\").conv1(layer3_0_relu_1)\n",
      "    layer3_1_bn1 = getattr(self.layer3, \"1\").bn1(layer3_1_conv1);  layer3_1_conv1 = None\n",
      "    layer3_1_relu = getattr(self.layer3, \"1\").relu(layer3_1_bn1);  layer3_1_bn1 = None\n",
      "    layer3_1_conv2 = getattr(self.layer3, \"1\").conv2(layer3_1_relu);  layer3_1_relu = None\n",
      "    layer3_1_bn2 = getattr(self.layer3, \"1\").bn2(layer3_1_conv2);  layer3_1_conv2 = None\n",
      "    add_5 = layer3_1_bn2 + layer3_0_relu_1;  layer3_1_bn2 = layer3_0_relu_1 = None\n",
      "    layer3_1_relu_1 = getattr(self.layer3, \"1\").relu(add_5);  add_5 = None\n",
      "    layer4_0_conv1 = getattr(self.layer4, \"0\").conv1(layer3_1_relu_1)\n",
      "    layer4_0_bn1 = getattr(self.layer4, \"0\").bn1(layer4_0_conv1);  layer4_0_conv1 = None\n",
      "    layer4_0_relu = getattr(self.layer4, \"0\").relu(layer4_0_bn1);  layer4_0_bn1 = None\n",
      "    layer4_0_conv2 = getattr(self.layer4, \"0\").conv2(layer4_0_relu);  layer4_0_relu = None\n",
      "    layer4_0_bn2 = getattr(self.layer4, \"0\").bn2(layer4_0_conv2);  layer4_0_conv2 = None\n",
      "    layer4_0_downsample_0 = getattr(getattr(self.layer4, \"0\").downsample, \"0\")(layer3_1_relu_1);  layer3_1_relu_1 = None\n",
      "    layer4_0_downsample_1 = getattr(getattr(self.layer4, \"0\").downsample, \"1\")(layer4_0_downsample_0);  layer4_0_downsample_0 = None\n",
      "    add_6 = layer4_0_bn2 + layer4_0_downsample_1;  layer4_0_bn2 = layer4_0_downsample_1 = None\n",
      "    layer4_0_relu_1 = getattr(self.layer4, \"0\").relu(add_6);  add_6 = None\n",
      "    layer4_1_conv1 = getattr(self.layer4, \"1\").conv1(layer4_0_relu_1)\n",
      "    layer4_1_bn1 = getattr(self.layer4, \"1\").bn1(layer4_1_conv1);  layer4_1_conv1 = None\n",
      "    layer4_1_relu = getattr(self.layer4, \"1\").relu(layer4_1_bn1);  layer4_1_bn1 = None\n",
      "    layer4_1_conv2 = getattr(self.layer4, \"1\").conv2(layer4_1_relu);  layer4_1_relu = None\n",
      "    layer4_1_bn2 = getattr(self.layer4, \"1\").bn2(layer4_1_conv2);  layer4_1_conv2 = None\n",
      "    add_7 = layer4_1_bn2 + layer4_0_relu_1;  layer4_1_bn2 = layer4_0_relu_1 = None\n",
      "    layer4_1_relu_1 = getattr(self.layer4, \"1\").relu(add_7);  add_7 = None\n",
      "    avgpool = self.avgpool(layer4_1_relu_1);  layer4_1_relu_1 = None\n",
      "    flatten = torch.flatten(avgpool, 1);  avgpool = None\n",
      "    fc = self.fc(flatten);  flatten = None\n",
      "    return fc\n",
      "    \n"
     ]
    }
   ],
   "source": [
    "import torch.fx as fx\n",
    "model = resnet18()\n",
    "\n",
    "trace = fx.symbolic_trace(model)\n",
    "\n",
    "# Static Single-Assignment code\n",
    "print(trace.code)"
   ]
  },
  {
   "cell_type": "code",
   "execution_count": 20,
   "id": "N8EyE8KzUyJj",
   "metadata": {
    "id": "N8EyE8KzUyJj"
   },
   "outputs": [
    {
     "ename": "RuntimeError",
     "evalue": "FXGraphDrawer requires the pydot package to be installed. Please install pydot through your favorite Python package manager.",
     "output_type": "error",
     "traceback": [
      "\u001b[0;31m---------------------------------------------------------------------------\u001b[0m",
      "\u001b[0;31mRuntimeError\u001b[0m                              Traceback (most recent call last)",
      "Cell \u001b[0;32mIn[20], line 3\u001b[0m\n\u001b[1;32m      1\u001b[0m \u001b[38;5;28;01mfrom\u001b[39;00m \u001b[38;5;21;01mtorch\u001b[39;00m\u001b[38;5;21;01m.\u001b[39;00m\u001b[38;5;21;01mfx\u001b[39;00m\u001b[38;5;21;01m.\u001b[39;00m\u001b[38;5;21;01mpasses\u001b[39;00m\u001b[38;5;21;01m.\u001b[39;00m\u001b[38;5;21;01mgraph_drawer\u001b[39;00m \u001b[38;5;28;01mimport\u001b[39;00m FxGraphDrawer\n\u001b[0;32m----> 3\u001b[0m drawer \u001b[38;5;241m=\u001b[39m \u001b[43mFxGraphDrawer\u001b[49m\u001b[43m(\u001b[49m\u001b[43mtrace\u001b[49m\u001b[43m,\u001b[49m\u001b[43m \u001b[49m\u001b[38;5;124;43m'\u001b[39;49m\u001b[38;5;124;43mcomputation graph\u001b[39;49m\u001b[38;5;124;43m'\u001b[39;49m\u001b[43m)\u001b[49m\n\u001b[1;32m      4\u001b[0m drawer\u001b[38;5;241m.\u001b[39mget_dot_graph()\u001b[38;5;241m.\u001b[39mwrite_svg(\u001b[38;5;124m'\u001b[39m\u001b[38;5;124m./graph.svg\u001b[39m\u001b[38;5;124m'\u001b[39m)\n",
      "File \u001b[0;32m~/miniconda3/envs/torch/lib/python3.12/site-packages/torch/fx/passes/graph_drawer.py:442\u001b[0m, in \u001b[0;36mFxGraphDrawer.__init__\u001b[0;34m(self, graph_module, name, ignore_getattr, ignore_parameters_and_buffers, skip_node_names_in_args, parse_stack_trace, dot_graph_shape, normalize_args)\u001b[0m\n\u001b[1;32m    431\u001b[0m \u001b[38;5;28;01mdef\u001b[39;00m \u001b[38;5;21m__init__\u001b[39m(\n\u001b[1;32m    432\u001b[0m     \u001b[38;5;28mself\u001b[39m,\n\u001b[1;32m    433\u001b[0m     graph_module: torch\u001b[38;5;241m.\u001b[39mfx\u001b[38;5;241m.\u001b[39mGraphModule,\n\u001b[0;32m   (...)\u001b[0m\n\u001b[1;32m    440\u001b[0m     normalize_args: \u001b[38;5;28mbool\u001b[39m \u001b[38;5;241m=\u001b[39m \u001b[38;5;28;01mFalse\u001b[39;00m,\n\u001b[1;32m    441\u001b[0m ):\n\u001b[0;32m--> 442\u001b[0m     \u001b[38;5;28;01mraise\u001b[39;00m \u001b[38;5;167;01mRuntimeError\u001b[39;00m(\u001b[38;5;124m'\u001b[39m\u001b[38;5;124mFXGraphDrawer requires the pydot package to be installed. Please install \u001b[39m\u001b[38;5;124m'\u001b[39m\n\u001b[1;32m    443\u001b[0m                        \u001b[38;5;124m'\u001b[39m\u001b[38;5;124mpydot through your favorite Python package manager.\u001b[39m\u001b[38;5;124m'\u001b[39m)\n",
      "\u001b[0;31mRuntimeError\u001b[0m: FXGraphDrawer requires the pydot package to be installed. Please install pydot through your favorite Python package manager."
     ]
    }
   ],
   "source": [
    "from torch.fx.passes.graph_drawer import FxGraphDrawer\n",
    "\n",
    "drawer = FxGraphDrawer(trace, 'computation graph')\n",
    "drawer.get_dot_graph().write_svg('./graph.svg')"
   ]
  },
  {
   "cell_type": "code",
   "execution_count": null,
   "id": "3PYcAL3CW2z6",
   "metadata": {
    "id": "3PYcAL3CW2z6"
   },
   "outputs": [],
   "source": [
    "\n",
    "# New feature added in torch 2.0: lots of stuff happening there!\n",
    "compiled = torch.compile(model)\n",
    "\n",
    "# Let's compare performance with the original model\n",
    "x = torch.randn(16, 3, 224, 224)\n",
    "niters = 5\n",
    "\n",
    "y = model(x) # warmup\n",
    "start = time.time()\n",
    "for _ in range(niters):\n",
    "  y = model(x)\n",
    "if torch.cuda.is_available(): torch.cuda.synchronize()\n",
    "end = time.time()\n",
    "print(f\"Time taken by original model : {end - start:.3f}s\")\n",
    "\n",
    "\n",
    "y = compiled(x) # warmup\n",
    "start = time.time()\n",
    "for _ in range(niters):\n",
    "  y = compiled(x)\n",
    "if torch.cuda.is_available(): torch.cuda.synchronize()\n",
    "end = time.time()\n",
    "print(f\"Time taken by compiled model : {end - start:.3f}s\")"
   ]
  }
 ],
 "metadata": {
  "accelerator": "GPU",
  "colab": {
   "gpuType": "T4",
   "provenance": []
  },
  "kernelspec": {
   "display_name": "torch",
   "language": "python",
   "name": "python3"
  },
  "language_info": {
   "codemirror_mode": {
    "name": "ipython",
    "version": 3
   },
   "file_extension": ".py",
   "mimetype": "text/x-python",
   "name": "python",
   "nbconvert_exporter": "python",
   "pygments_lexer": "ipython3",
   "version": "3.12.3"
  }
 },
 "nbformat": 4,
 "nbformat_minor": 5
}
