{
 "cells": [
  {
   "cell_type": "code",
   "execution_count": 1,
   "metadata": {
    "id": "38rVWCyd9y-s"
   },
   "outputs": [
    {
     "name": "stdout",
     "output_type": "stream",
     "text": [
      "Requirement already satisfied: flopco-pytorch in /home/mkherraz001/miniconda3/envs/torch/lib/python3.12/site-packages (0.1.4)\n"
     ]
    }
   ],
   "source": [
    "!pip install flopco-pytorch"
   ]
  },
  {
   "cell_type": "code",
   "execution_count": 2,
   "metadata": {
    "id": "Y8Yqk_gW96rN"
   },
   "outputs": [],
   "source": [
    "import torch\n",
    "from torch import nn\n",
    "import torchvision\n",
    "import flopco\n",
    "from flopco import FlopCo\n",
    "\n",
    "from tqdm import tqdm as tqdm\n",
    "import math\n",
    "import time\n",
    "import sys\n",
    "import gc\n",
    "import statistics"
   ]
  },
  {
   "cell_type": "code",
   "execution_count": 3,
   "metadata": {
    "id": "3KKfRBT4_4k1"
   },
   "outputs": [
    {
     "name": "stdout",
     "output_type": "stream",
     "text": [
      "cuda\n"
     ]
    }
   ],
   "source": [
    "\n",
    "torch.random.manual_seed(10)\n",
    "device = torch.device(\"cuda\") if torch.cuda.is_available() else torch.device(\"cpu\")\n",
    "# device = torch.device(\"cpu\")\n",
    "device_cpu = torch.device(\"cpu\")\n",
    "print(device)"
   ]
  },
  {
   "cell_type": "markdown",
   "metadata": {
    "id": "5C7AuQUxKjK1"
   },
   "source": [
    "## ResNet"
   ]
  },
  {
   "cell_type": "code",
   "execution_count": 4,
   "metadata": {
    "id": "nnDSfR6v98Cw"
   },
   "outputs": [],
   "source": [
    "resnet18 = torchvision.models.resnet18()"
   ]
  },
  {
   "cell_type": "markdown",
   "metadata": {
    "id": "_TIAySqUJw4T"
   },
   "source": [
    "![image.png](https://cdn-images-1.medium.com/max/759/1*PLDIbqMGxoSqWKsiqAGF4g.png)"
   ]
  },
  {
   "cell_type": "code",
   "execution_count": 5,
   "metadata": {
    "id": "f8NYYYrJ-xBB"
   },
   "outputs": [],
   "source": [
    "stats_resnet18 = FlopCo(resnet18,\n",
    "               img_size = (1, 3, 224, 224),\n",
    "               device = device_cpu,\n",
    "               instances = [nn.Conv2d, nn.BatchNorm2d, nn.Linear])"
   ]
  },
  {
   "cell_type": "markdown",
   "metadata": {
    "id": "P5VsTyBbfPH_"
   },
   "source": [
    "### Absolute flops in ResNet18"
   ]
  },
  {
   "cell_type": "code",
   "execution_count": 6,
   "metadata": {
    "id": "fAv8XyVDfPIB"
   },
   "outputs": [
    {
     "name": "stdout",
     "output_type": "stream",
     "text": [
      "Depthwise conv flops:\t 0\n",
      "Standart conv flops:\t 3627122688\n",
      "Linear flops:\t 1024512\n"
     ]
    }
   ],
   "source": [
    "conv_kxk_flops, conv_1x1_flops, lins_flops = 0,0,0\n",
    "for layer_name, layer_type in stats_resnet18.ltypes.items():\n",
    "  if layer_type['type'] is nn.Conv2d:\n",
    "    if layer_type['groups'] > 1 and layer_type['kernel_size'] != (1,1):\n",
    "      conv_1x1_flops += stats_resnet18.flops[layer_name][0]\n",
    "    else:\n",
    "      conv_kxk_flops += stats_resnet18.flops[layer_name][0]\n",
    "  elif layer_type['type'] is nn.Linear:\n",
    "    lins_flops += stats_resnet18.flops[layer_name][0]\n",
    "\n",
    "print(\"Depthwise conv flops:\\t\", conv_1x1_flops)\n",
    "print(\"Standart conv flops:\\t\", conv_kxk_flops)\n",
    "print(\"Linear flops:\\t\", lins_flops)"
   ]
  },
  {
   "cell_type": "markdown",
   "metadata": {
    "id": "PoZvIUdtfPIC"
   },
   "source": [
    "### Relative flops in ResNet18"
   ]
  },
  {
   "cell_type": "code",
   "execution_count": 7,
   "metadata": {
    "id": "VfR1hkmqfPIC"
   },
   "outputs": [
    {
     "name": "stdout",
     "output_type": "stream",
     "text": [
      "Depthwise conv flop:\t 0\n",
      "Standart conv flop:\t 0.997\n",
      "Linear flop:\t 0.0003\n"
     ]
    }
   ],
   "source": [
    "conv_kxk_flops, conv_1x1_flops, lins_flops = 0,0,0\n",
    "for layer_name, layer_type in stats_resnet18.ltypes.items():\n",
    "  if layer_type['type'] is nn.Conv2d:\n",
    "    if layer_type['groups'] > 1 and layer_type['kernel_size'] != (1,1):\n",
    "      conv_1x1_flops += stats_resnet18.relative_flops[layer_name]\n",
    "    else:\n",
    "      conv_kxk_flops += stats_resnet18.relative_flops[layer_name]\n",
    "  elif layer_type['type'] is nn.Linear:\n",
    "    lins_flops += stats_resnet18.relative_flops[layer_name]\n",
    "\n",
    "print(\"Depthwise conv flop:\\t\", round(conv_1x1_flops, 4))\n",
    "print(\"Standart conv flop:\\t\", round(conv_kxk_flops, 4))\n",
    "print(\"Linear flop:\\t\", round(lins_flops, 4))"
   ]
  },
  {
   "cell_type": "code",
   "execution_count": 8,
   "metadata": {
    "id": "I_V98bJnABy3"
   },
   "outputs": [],
   "source": [
    "# stats for different blocks of resnet18 (not used below)\n",
    "stats_resnet18_l1 = FlopCo(resnet18.layer1,\n",
    "               img_size = (1, 64, 224, 224),\n",
    "               device = device_cpu,\n",
    "               instances = [nn.Conv2d, nn.BatchNorm2d, nn.Linear])\n",
    "stats_resnet18_l2 = FlopCo(resnet18.layer2,\n",
    "               img_size = (1, 64, 224, 224),\n",
    "               device = device_cpu,\n",
    "               instances = [nn.Conv2d, nn.BatchNorm2d, nn.Linear])\n",
    "stats_resnet18_l3 = FlopCo(resnet18.layer3,\n",
    "               img_size = (1, 128, 224, 224),\n",
    "               device = device_cpu,\n",
    "               instances = [nn.Conv2d, nn.BatchNorm2d, nn.Linear])\n",
    "stats_resnet18_l4 = FlopCo(resnet18.layer4,\n",
    "               img_size = (1, 256, 224, 224),\n",
    "               device = device_cpu,\n",
    "               instances = [nn.Conv2d, nn.BatchNorm2d, nn.Linear])"
   ]
  },
  {
   "cell_type": "markdown",
   "metadata": {
    "id": "e1FjH9jEKluz"
   },
   "source": [
    "## MobileNet"
   ]
  },
  {
   "cell_type": "markdown",
   "metadata": {
    "id": "kG82nJWtaC3f"
   },
   "source": [
    "![image.png](https://user-images.githubusercontent.com/3350865/77837270-d2df3580-7199-11ea-9b2b-704966a3c19d.png)"
   ]
  },
  {
   "cell_type": "code",
   "execution_count": 9,
   "metadata": {
    "id": "V_SjaEt7JBpi"
   },
   "outputs": [],
   "source": [
    "mobilenet = torchvision.models.mobilenet_v2()"
   ]
  },
  {
   "cell_type": "code",
   "execution_count": 10,
   "metadata": {
    "id": "BpvttV3OfoOE"
   },
   "outputs": [
    {
     "data": {
      "text/plain": [
       "(19,\n",
       " InvertedResidual(\n",
       "   (conv): Sequential(\n",
       "     (0): Conv2dNormActivation(\n",
       "       (0): Conv2d(96, 576, kernel_size=(1, 1), stride=(1, 1), bias=False)\n",
       "       (1): BatchNorm2d(576, eps=1e-05, momentum=0.1, affine=True, track_running_stats=True)\n",
       "       (2): ReLU6(inplace=True)\n",
       "     )\n",
       "     (1): Conv2dNormActivation(\n",
       "       (0): Conv2d(576, 576, kernel_size=(3, 3), stride=(1, 1), padding=(1, 1), groups=576, bias=False)\n",
       "       (1): BatchNorm2d(576, eps=1e-05, momentum=0.1, affine=True, track_running_stats=True)\n",
       "       (2): ReLU6(inplace=True)\n",
       "     )\n",
       "     (2): Conv2d(576, 96, kernel_size=(1, 1), stride=(1, 1), bias=False)\n",
       "     (3): BatchNorm2d(96, eps=1e-05, momentum=0.1, affine=True, track_running_stats=True)\n",
       "   )\n",
       " ))"
      ]
     },
     "execution_count": 10,
     "metadata": {},
     "output_type": "execute_result"
    }
   ],
   "source": [
    "len(mobilenet.features), mobilenet.features[12]"
   ]
  },
  {
   "cell_type": "code",
   "execution_count": 11,
   "metadata": {
    "id": "Ur2wyeMLKxLt"
   },
   "outputs": [],
   "source": [
    "stats_mobilenet = FlopCo(mobilenet,\n",
    "               img_size = (1, 3, 224, 224),\n",
    "               device = device_cpu,\n",
    "               instances = [nn.Conv2d, nn.BatchNorm2d, nn.Linear])\n"
   ]
  },
  {
   "cell_type": "markdown",
   "metadata": {
    "id": "_Eq1QkHbdsTL"
   },
   "source": [
    "### Absolute flops in MobileNet"
   ]
  },
  {
   "cell_type": "code",
   "execution_count": 12,
   "metadata": {
    "id": "oopALC63bQYC"
   },
   "outputs": [
    {
     "name": "stdout",
     "output_type": "stream",
     "text": [
      "Depthwise conv flop:\t 41432832\n",
      "Standart conv flop:\t 557555712\n",
      "Linear flop:\t 2561280\n"
     ]
    }
   ],
   "source": [
    "conv_kxk_flops, conv_1x1_flops, lins_flops = 0,0,0\n",
    "for layer_name, layer_type in stats_mobilenet.ltypes.items():\n",
    "  if layer_type['type'] is nn.Conv2d:\n",
    "    if layer_type['groups'] > 1 and layer_type['kernel_size'] != (1,1):\n",
    "      conv_1x1_flops += stats_mobilenet.flops[layer_name][0]\n",
    "    else:\n",
    "      conv_kxk_flops += stats_mobilenet.flops[layer_name][0]\n",
    "  elif layer_type['type'] is nn.Linear:\n",
    "    lins_flops += stats_mobilenet.flops[layer_name][0]\n",
    "print(\"Depthwise conv flop:\\t\", conv_1x1_flops)\n",
    "print(\"Standart conv flop:\\t\", conv_kxk_flops)\n",
    "print(\"Linear flop:\\t\", lins_flops)"
   ]
  },
  {
   "cell_type": "markdown",
   "metadata": {
    "id": "ylIQtVOkdzC7"
   },
   "source": [
    "### Relative flops in MobileNet"
   ]
  },
  {
   "cell_type": "code",
   "execution_count": 13,
   "metadata": {
    "id": "lTOCORBIdzC7"
   },
   "outputs": [
    {
     "name": "stdout",
     "output_type": "stream",
     "text": [
      "Depthwise conv flop:\t 0.0659\n",
      "Standart conv flop:\t 0.8875\n",
      "Linear flop:\t 0.0041\n"
     ]
    }
   ],
   "source": [
    "conv_kxk_flops, conv_1x1_flops, lins_flops = 0,0,0\n",
    "for layer_name, layer_type in stats_mobilenet.ltypes.items():\n",
    "  if layer_type['type'] is nn.Conv2d:\n",
    "    if layer_type['groups'] > 1 and layer_type['kernel_size'] != (1,1):\n",
    "      conv_1x1_flops += stats_mobilenet.relative_flops[layer_name]\n",
    "    else:\n",
    "      conv_kxk_flops += stats_mobilenet.relative_flops[layer_name]\n",
    "  elif layer_type['type'] is nn.Linear:\n",
    "    lins_flops += stats_mobilenet.relative_flops[layer_name]\n",
    "print(\"Depthwise conv flop:\\t\", round(conv_1x1_flops, 4))\n",
    "print(\"Standart conv flop:\\t\", round(conv_kxk_flops, 4))\n",
    "print(\"Linear flop:\\t\", round(lins_flops, 4))"
   ]
  },
  {
   "cell_type": "code",
   "execution_count": null,
   "metadata": {
    "id": "RXyo7uluJ8op"
   },
   "outputs": [],
   "source": []
  }
 ],
 "metadata": {
  "accelerator": "GPU",
  "colab": {
   "gpuType": "T4",
   "private_outputs": true,
   "provenance": []
  },
  "kernelspec": {
   "display_name": "torch",
   "language": "python",
   "name": "python3"
  },
  "language_info": {
   "codemirror_mode": {
    "name": "ipython",
    "version": 3
   },
   "file_extension": ".py",
   "mimetype": "text/x-python",
   "name": "python",
   "nbconvert_exporter": "python",
   "pygments_lexer": "ipython3",
   "version": "3.12.3"
  }
 },
 "nbformat": 4,
 "nbformat_minor": 0
}
